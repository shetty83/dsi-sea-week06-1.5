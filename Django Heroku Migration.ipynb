{
 "cells": [
  {
   "cell_type": "markdown",
   "metadata": {},
   "source": [
    "# Migrating to Heroku (putting your stuff online)"
   ]
  },
  {
   "cell_type": "markdown",
   "metadata": {},
   "source": [
    "# Creating our Virtual Environment"
   ]
  },
  {
   "cell_type": "markdown",
   "metadata": {},
   "source": [
    "### First, we need to organize all the libraries we have installed with pip. When we move our code over to heroku, it won't be able to guess which libraries we need and which ones we don't. We need to have some way to tell our cloud server which dependencies (libraries) to download."
   ]
  },
  {
   "cell_type": "markdown",
   "metadata": {},
   "source": [
    "* pip install virtualenv"
   ]
  },
  {
   "cell_type": "markdown",
   "metadata": {},
   "source": [
    "### We still need to generate a list of requirements for our external server. Let's run the following command in the same directory as our previous command => \n",
    "* pip freeze > requirements.txt\n",
    "* open requirements.txt\n",
    "\n",
    "### Look at all the files you have installed on your pip! We don't need that many! We are only using a few of those libraries. The rest are used by iPython and other Python applications.\n",
    "\n",
    "<b>In the top/root level of your django website type in the following command</b> => \n",
    "* virtualenv --python=/usr/local/bin/python2.7 .venv\n",
    "* source .venv/bin/activate\n",
    "\n",
    "### Wait... what did we just do? Well the answer is kind of complicated. Basically we created a tiny operating system that handles all of our dependencies (libraries) for us. We are going to use this to save our new dependencies to our server. Let's run our command again...\n",
    "\n",
    "* pip freeze > requirements.txt\n",
    "* open requirements.txt\n",
    "\n",
    "### What happend? Where did our dependencies go? Well, since we created a new operating system, we basically need to download all of our libraries again. Copy the following text into your requirements.txt file.\n",
    "\n",
    "```dj-database-url==0.4.1\n",
    "dj-static==0.0.6\n",
    "Django==1.10.3\n",
    "django-toolbelt==0.0.1\n",
    "enum==0.4.6\n",
    "gunicorn==19.6.0\n",
    "numpy==1.11.2\n",
    "psycopg2==2.6.2\n",
    "static3==0.7.0\n",
    "whitenoise==3.2.2```"
   ]
  },
  {
   "cell_type": "markdown",
   "metadata": {},
   "source": [
    "### Run the following command to install your new set of libraries\n",
    "* pip install -r requirements.txt\n",
    "\n",
    "### Congratulations! You've completed the library exporting."
   ]
  },
  {
   "cell_type": "markdown",
   "metadata": {},
   "source": [
    "_<b>Remember: Everything you install from now on will be also installed on your remote server and local environment. Make sure you run the following command before you start working on your project or install new pip libraries.</b>_ => \n",
    "* source .venv/bin/activate\n",
    "\n",
    "_<b>Remember: When you install anything with pip install make sure to run the following command to update your libaries</b>_ => \n",
    "* pip freeze > requirements.txt\n",
    "\n",
    "#### Run =>\n",
    "\n",
    "* python manage.py runserver\n",
    "\n",
    "#### If you hit a psycopg2 error, scroll to the bottom of the page"
   ]
  },
  {
   "cell_type": "markdown",
   "metadata": {},
   "source": [
    "# Setting up our environment"
   ]
  },
  {
   "cell_type": "markdown",
   "metadata": {},
   "source": [
    "### Now we have all the libraries installed on our computer organized into a file in our root directory"
   ]
  },
  {
   "cell_type": "markdown",
   "metadata": {},
   "source": [
    "<b>In your settings.py make the following changes or create the variables</b> => \n",
    "\n",
    "* ALLOWED_HOSTS = ['0.0.0.0','127.0.0.1','peaceful-badlands-42479.herokuapp.com']\n",
    "* DATABASES = {\n",
    "    'default': {\n",
    "        'ENGINE': 'django.db.backends.postgresql_psycopg2',\n",
    "        'NAME': os.environ.get('DATABASE_NAME', ''),\n",
    "        'HOST': os.environ.get('DATABASE_HOST', ''),\n",
    "        'USER': os.environ.get('DATABASE_USER', ''),\n",
    "        'PASSWORD': os.environ.get('DATABASE_PASSWORD', ''),\n",
    "        'PORT': os.environ.get('DATABASE_PORT', ''),\n",
    "    }\n",
    "}\n",
    "* BASE_DIR = os.path.dirname(os.path.dirname(os.path.abspath(__file__)))\n",
    "* STATICFILES_STORAGE = 'whitenoise.django.GzipManifestStaticFilesStorage'\n",
    "* STATIC_ROOT = os.path.join(BASE_DIR, 'static')\n",
    "\n",
    "### Remember to save your old DATABASES value. We will need it for later\n",
    "\n",
    "<b>In your wsgi.py, replace your values with the following values</b> => \n",
    "\n",
    "```\n",
    "import os\n",
    "\n",
    "from django.core.wsgi import get_wsgi_application\n",
    "from whitenoise.django import DjangoWhiteNoise\n",
    "\n",
    "os.environ.setdefault(\"DJANGO_SETTINGS_MODULE\", \"classproject.settings\")\n",
    "\n",
    "application = get_wsgi_application()\n",
    "application = DjangoWhiteNoise(application)\n",
    "```\n"
   ]
  },
  {
   "cell_type": "markdown",
   "metadata": {},
   "source": [
    "### Now we need to make our Procfile. This will tell heroku what to run when we upload the files to our server\n",
    "\n",
    "* touch Procfile\n",
    "* open Procfile\n",
    "\n",
    "<b>put the following text in the file</b> => \n",
    "\n",
    "```\n",
    "web: gunicorn classproject.wsgi\n",
    "```\n",
    "\n",
    "### close the file"
   ]
  },
  {
   "cell_type": "markdown",
   "metadata": {},
   "source": [
    "## Next we have the environment. This is fancy computer talk for a bunch of variables that define things we don't want to show publicly or have to use multiple times over a bunch of programs. Look at what we changed our Databases object to in our settings.py file. Let's define a set of values we can set our new environmental variables to.\n",
    "\n",
    "### Honcho will help us organize our environmental variables\n",
    "\n",
    "* pip install honcho\n",
    "\n",
    "### Let's give our environment some variables!\n",
    "\n",
    "* touch .env\n",
    "* open .env\n",
    "\n",
    "### Insert the following text\n",
    "\n",
    "```\n",
    "DATABASE_NAME=\"mfnyeqfz\"\n",
    "DATABASE_HOST=\"elmer.db.elephantsql.com\"\n",
    "DATABASE_USER=\"mfnyeqfz\"\n",
    "DATABASE_PASSWORD=\"zxzi25vFYOiloQ8ORKUo2-Oog5GgfZc2\"\n",
    "DATABASE_PORT=\"5432\"\n",
    "```\n",
    "\n",
    "### Remember to change the variables in the file to your own strings ( They used to be in the settings.py file ) !\n",
    "\n",
    "* honcho start"
   ]
  },
  {
   "cell_type": "markdown",
   "metadata": {},
   "source": [
    "# Pushing to Heroku"
   ]
  },
  {
   "cell_type": "markdown",
   "metadata": {},
   "source": [
    "#### Navigate to:\n",
    "    http://www.heroku.com/\n",
    "#### and create an account\n",
    "\n",
    "#### Add your .env vars to your Heroku console. It should look something like this.\n",
    "<img src=\"images/screen01.png\" alt=\"Title\"/>\n",
    "\n",
    "#### Download the cli. This will make things easier for us\n",
    "    https://devcenter.heroku.com/articles/heroku-command-line"
   ]
  },
  {
   "cell_type": "markdown",
   "metadata": {},
   "source": [
    "### Making our .gitignore file\n",
    "#### A .gitignore file tells the remote github server to ignore certain files when they are updated. We don't want to push up our passwords and build files, so it's usually in good practice to make one =>\n",
    "\n",
    "* touch .gitignore\n",
    "* open .gitignore\n",
    "\n",
    "#### Insert the following text into the file\n",
    "\n",
    "`\n",
    "venv\n",
    "*.pyc\n",
    "staticfiles\n",
    ".env\n",
    "`\n",
    "\n",
    "close .gitignore"
   ]
  },
  {
   "cell_type": "markdown",
   "metadata": {},
   "source": [
    "### Run the following commands\n",
    "\n",
    "* heroku login\n",
    "* heroku create\n",
    "* heroku buildpacks:set heroku/python\n",
    "* git add .\n",
    "* git commit -m \"init\""
   ]
  },
  {
   "cell_type": "markdown",
   "metadata": {},
   "source": [
    "### Now cross your fingers and run the following command =>\n",
    "* git push heroku master\n",
    "\n",
    "### If everything worked out well, you should see something like this =>\n",
    "```\n",
    "remote: -----> Discovering process types\n",
    "remote:        Procfile declares types -> web\n",
    "remote: \n",
    "remote: -----> Compressing...\n",
    "remote:        Done: 84.2M\n",
    "remote: -----> Launching...\n",
    "remote:        Released v4\n",
    "remote:        https://peaceful-badlands-42479.herokuapp.com/ deployed to Heroku\n",
    "remote: \n",
    "remote: Verifying deploy... done.\n",
    "To https://git.heroku.com/peaceful-badlands-42479.git\n",
    " * [new branch]      master -> master\n",
    "```\n",
    "\n",
    "### If you do not see this, something went wrong. Don't worry, this is very technically challenging. Look through the documentation available online to see if you can solve the problem from the error message."
   ]
  },
  {
   "cell_type": "markdown",
   "metadata": {},
   "source": [
    "### If you are having trouble with psycopg2, sit tight. The answer is complicated...\n",
    "\n",
    "#### Heroku has the right version of the libraries installed on their servers, but unfortunately, you do not. You need to copy the files over so that your virtual environment can use them. Since we can only use pip to install files, we are left with a problem. We can't use the requirements.txt file to hold our libraries. We have to copy our version of two library files into the right folders.\n",
    "\n",
    "#### Open a new tab and type in =>\n",
    "\n",
    "* cd /Applications\n",
    "\n",
    "#### Find your postgresql application and look for the files below inside. The path should look very similar these paths.  \n",
    "\n",
    "```\n",
    "/Applications/Postgres-9.6.0.0.app/Contents/Versions/latest/lib/libcrypto.1.0.0.dylib\n",
    "/Applications/Postgres-9.6.0.0.app/Contents/Versions/latest/lib/libssl.1.0.0.dylib\n",
    "```\n",
    "\n",
    "#### Run the following command with your versions of the files.\n",
    "\n",
    "* sudo ln -fs /Applications/Postgres.app/Contents/Versions/latest/lib/libcrypto.1.0.0.dylib /usr/local/lib\n",
    "* sudo ln -fs /Applications/Postgres.app/Contents/Versions/latest/lib/libssl.1.0.0.dylib /usr/local/lib\n",
    "\n",
    "#### You should now be able to run =>\n",
    "* python manage.py runserver"
   ]
  },
  {
   "cell_type": "code",
   "execution_count": null,
   "metadata": {
    "collapsed": true
   },
   "outputs": [],
   "source": []
  }
 ],
 "metadata": {
  "anaconda-cloud": {},
  "kernelspec": {
   "display_name": "Python [default]",
   "language": "python",
   "name": "python2"
  },
  "language_info": {
   "codemirror_mode": {
    "name": "ipython",
    "version": 2
   },
   "file_extension": ".py",
   "mimetype": "text/x-python",
   "name": "python",
   "nbconvert_exporter": "python",
   "pygments_lexer": "ipython2",
   "version": "2.7.12"
  }
 },
 "nbformat": 4,
 "nbformat_minor": 0
}
