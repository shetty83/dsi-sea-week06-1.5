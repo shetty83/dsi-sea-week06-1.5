{
 "cells": [
  {
   "cell_type": "markdown",
   "metadata": {
    "button": false,
    "deletable": true,
    "new_sheet": false,
    "run_control": {
     "read_only": false
    }
   },
   "source": [
    "### Wouldn't it be nice to see our grades whenever we want? Of course it would! Let's add a new url for our grades page. In urls.py add =>\n",
    "\n",
    "* url(r'^grades/all/$', views.grades, name='grades')"
   ]
  },
  {
   "cell_type": "markdown",
   "metadata": {
    "collapsed": false
   },
   "source": [
    "### install these\n",
    "pip install --upgrade oauth2client\n",
    "pip install PyOpenSSL\n",
    "\n",
    "### Follow below links to get the spreadsheet API\n",
    "https://github.com/burnash/gspread\n",
    "http://gspread.readthedocs.io/en/latest/oauth2.html"
   ]
  },
  {
   "cell_type": "code",
   "execution_count": 9,
   "metadata": {
    "collapsed": false
   },
   "outputs": [],
   "source": [
    "# Add the below code to Views.py\n",
    "def  grades(request):\n",
    "    import gspread\n",
    "    from oauth2client.service_account import ServiceAccountCredentials\n",
    "\n",
    "    scope = ['https://spreadsheets.google.com/feeds']\n",
    "\n",
    "    credentials = ServiceAccountCredentials.from_json_keyfile_name('FirstProject-810887d3746c.json', scope)\n",
    "\n",
    "    gc = gspread.authorize(credentials)\n",
    "\n",
    "    arr = []\n",
    "    wks = gc.open(\"DSI Labs\")\n",
    "    worksheet_list = wks.worksheets()\n",
    "    for x in worksheet_list:\n",
    "        arr += [ x.get_all_values()]\n",
    "\n",
    "    return render(request, 'site/grades.html', {'grades': arr})"
   ]
  },
  {
   "cell_type": "code",
   "execution_count": null,
   "metadata": {
    "collapsed": true
   },
   "outputs": [],
   "source": [
    "# Grades.html\n",
    "<ul>\n",
    "    {% for grade in grades %}\n",
    "    <li> {{ grade }} </li>\n",
    "    {% endfor %}\n",
    "</ul>\n",
    "\n",
    "# Add below code to urls.py"
   ]
  },
  {
   "cell_type": "code",
   "execution_count": null,
   "metadata": {
    "collapsed": true
   },
   "outputs": [],
   "source": [
    "# Run below commands \n",
    "pip freeze > requirements.txt\n",
    "honcho start\n",
    "\n",
    "git status\n",
    "git add .\n",
    "\n",
    "git commit -am \"inint\"\n",
    "git push heroku master\n",
    "\n"
   ]
  },
  {
   "cell_type": "markdown",
   "metadata": {
    "button": false,
    "deletable": true,
    "new_sheet": false,
    "run_control": {
     "read_only": false
    }
   },
   "source": [
    "### Here is the url for the course labs\n",
    "\n",
    "``` https://docs.google.com/spreadsheets/d/1prfIEcE6mf7QbMyi-O9kgXyuQLYKlezqmGF2NTNNn9s/edit#gid=0 ```"
   ]
  },
  {
   "cell_type": "markdown",
   "metadata": {
    "button": false,
    "deletable": true,
    "new_sheet": false,
    "run_control": {
     "read_only": false
    }
   },
   "source": [
    "### Pull in the information from the spreadsheet. Remember there are two tabs. Print the url of your page at the bottom of this notebook. Here is mine =>\n",
    "\n",
    "* https://peaceful-badlands-42479.herokuapp.com/site/grades/all/\n",
    "\n",
    "#### Don't worry about formatting. As long as it gets on the page it counts. If you are curious about how I made my page, use the inspector to get a clue about how my template was coded."
   ]
  },
  {
   "cell_type": "markdown",
   "metadata": {
    "button": false,
    "deletable": true,
    "new_sheet": false,
    "run_control": {
     "read_only": false
    }
   },
   "source": [
    "### I would recommend using this library =>\n",
    "\n",
    "* https://github.com/burnash/gspread\n",
    "\n",
    "### It will make things very easy for you"
   ]
  },
  {
   "cell_type": "code",
   "execution_count": null,
   "metadata": {
    "collapsed": true
   },
   "outputs": [],
   "source": []
  },
  {
   "cell_type": "markdown",
   "metadata": {},
   "source": [
    "### https://obscure-hollows-37474.herokuapp.com/site/grades/all/"
   ]
  },
  {
   "cell_type": "code",
   "execution_count": null,
   "metadata": {
    "collapsed": true
   },
   "outputs": [],
   "source": []
  }
 ],
 "metadata": {
  "anaconda-cloud": {},
  "kernelspec": {
   "display_name": "Python [default]",
   "language": "python",
   "name": "python2"
  }
 },
 "nbformat": 4,
 "nbformat_minor": 0
}
